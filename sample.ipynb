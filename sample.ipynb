{
 "cells": [
  {
   "metadata": {},
   "cell_type": "markdown",
   "source": [
    "# This is a sample Jupyter Notebook\n",
    "\n",
    "Below is an example of a code cell. \n",
    "Put your cursor into the cell and press Shift+Enter to execute it and select the next one, or click 'Run Cell' button.\n",
    "\n",
    "Press Double Shift to search everywhere for classes, files, tool windows, actions, and settings.\n",
    "\n",
    "To learn more about Jupyter Notebooks in PyCharm, see [help](https://www.jetbrains.com/help/pycharm/ipython-notebook-support.html).\n",
    "For an overview of PyCharm, go to Help -> Learn IDE features or refer to [our documentation](https://www.jetbrains.com/help/pycharm/getting-started.html)."
   ],
   "id": "8a77807f92f26ee"
  },
  {
   "metadata": {
    "ExecuteTime": {
     "end_time": "2024-11-14T13:08:32.972474Z",
     "start_time": "2024-11-14T13:08:32.967977Z"
    }
   },
   "cell_type": "code",
   "source": [
    "from statistics import linear_regression, LinearRegression\n",
    "\n",
    "import numpy as np\n",
    "import pandas as pd\n",
    "from pathlib import Path\n",
    "import matplotlib.pyplot as plt\n",
    "import matplotlib\n",
    "import sklearn\n",
    "import re\n",
    "\n",
    "from scipy.constants import horsepower\n",
    "from sklearn.model_selection import train_test_split\n",
    "from sklearn.pipeline import Pipeline"
   ],
   "id": "d2b5b48094b67d16",
   "outputs": [],
   "execution_count": 384
  },
  {
   "metadata": {
    "ExecuteTime": {
     "end_time": "2024-11-14T13:08:33.024009Z",
     "start_time": "2024-11-14T13:08:33.019518Z"
    }
   },
   "cell_type": "code",
   "source": [
    "# Model imports\n",
    "from sklearn.linear_model import LogisticRegression\n",
    "from sklearn.ensemble import RandomForestClassifier, RandomForestRegressor\n",
    "from sklearn.ensemble import GradientBoostingClassifier\n",
    "\n",
    "from sklearn.metrics import mean_squared_error, root_mean_squared_error\n",
    "from sklearn.metrics import accuracy_score\n",
    "\n",
    "from sklearn.preprocessing import OneHotEncoder\n",
    "from sklearn.compose import ColumnTransformer"
   ],
   "id": "525bcf3e89f8b996",
   "outputs": [],
   "execution_count": 385
  },
  {
   "metadata": {
    "ExecuteTime": {
     "end_time": "2024-11-14T13:08:33.235519Z",
     "start_time": "2024-11-14T13:08:33.030064Z"
    }
   },
   "cell_type": "code",
   "source": [
    "# Filepath\n",
    "file_path = \"data/test.csv\"\n",
    "test_data = pd.read_csv(file_path)\n",
    "#added for a quick way to see some of the data\n",
    "test_data.head(5)\n"
   ],
   "id": "2c8a22dcf0e2aa7d",
   "outputs": [
    {
     "data": {
      "text/plain": [
       "       id brand                 model  model_year  milage fuel_type  \\\n",
       "0  188533  Land        Rover LR2 Base        2015   98000  Gasoline   \n",
       "1  188534  Land     Rover Defender SE        2020    9142    Hybrid   \n",
       "2  188535  Ford    Expedition Limited        2022   28121  Gasoline   \n",
       "3  188536  Audi         A6 2.0T Sport        2016   61258  Gasoline   \n",
       "4  188537  Audi  A6 2.0T Premium Plus        2018   59000  Gasoline   \n",
       "\n",
       "                                              engine        transmission  \\\n",
       "0       240.0HP 2.0L 4 Cylinder Engine Gasoline Fuel         6-Speed A/T   \n",
       "1  395.0HP 3.0L Straight 6 Cylinder Engine Gasoli...         8-Speed A/T   \n",
       "2                    3.5L V6 24V PDI DOHC Twin Turbo  10-Speed Automatic   \n",
       "3                                     2.0 Liter TFSI           Automatic   \n",
       "4       252.0HP 2.0L 4 Cylinder Engine Gasoline Fuel                 A/T   \n",
       "\n",
       "           ext_col int_col       accident clean_title  \n",
       "0            White   Beige  None reported         Yes  \n",
       "1           Silver   Black  None reported         Yes  \n",
       "2            White   Ebony  None reported         NaN  \n",
       "3  Silician Yellow   Black  None reported         NaN  \n",
       "4             Gray   Black  None reported         Yes  "
      ],
      "text/html": [
       "<div>\n",
       "<style scoped>\n",
       "    .dataframe tbody tr th:only-of-type {\n",
       "        vertical-align: middle;\n",
       "    }\n",
       "\n",
       "    .dataframe tbody tr th {\n",
       "        vertical-align: top;\n",
       "    }\n",
       "\n",
       "    .dataframe thead th {\n",
       "        text-align: right;\n",
       "    }\n",
       "</style>\n",
       "<table border=\"1\" class=\"dataframe\">\n",
       "  <thead>\n",
       "    <tr style=\"text-align: right;\">\n",
       "      <th></th>\n",
       "      <th>id</th>\n",
       "      <th>brand</th>\n",
       "      <th>model</th>\n",
       "      <th>model_year</th>\n",
       "      <th>milage</th>\n",
       "      <th>fuel_type</th>\n",
       "      <th>engine</th>\n",
       "      <th>transmission</th>\n",
       "      <th>ext_col</th>\n",
       "      <th>int_col</th>\n",
       "      <th>accident</th>\n",
       "      <th>clean_title</th>\n",
       "    </tr>\n",
       "  </thead>\n",
       "  <tbody>\n",
       "    <tr>\n",
       "      <th>0</th>\n",
       "      <td>188533</td>\n",
       "      <td>Land</td>\n",
       "      <td>Rover LR2 Base</td>\n",
       "      <td>2015</td>\n",
       "      <td>98000</td>\n",
       "      <td>Gasoline</td>\n",
       "      <td>240.0HP 2.0L 4 Cylinder Engine Gasoline Fuel</td>\n",
       "      <td>6-Speed A/T</td>\n",
       "      <td>White</td>\n",
       "      <td>Beige</td>\n",
       "      <td>None reported</td>\n",
       "      <td>Yes</td>\n",
       "    </tr>\n",
       "    <tr>\n",
       "      <th>1</th>\n",
       "      <td>188534</td>\n",
       "      <td>Land</td>\n",
       "      <td>Rover Defender SE</td>\n",
       "      <td>2020</td>\n",
       "      <td>9142</td>\n",
       "      <td>Hybrid</td>\n",
       "      <td>395.0HP 3.0L Straight 6 Cylinder Engine Gasoli...</td>\n",
       "      <td>8-Speed A/T</td>\n",
       "      <td>Silver</td>\n",
       "      <td>Black</td>\n",
       "      <td>None reported</td>\n",
       "      <td>Yes</td>\n",
       "    </tr>\n",
       "    <tr>\n",
       "      <th>2</th>\n",
       "      <td>188535</td>\n",
       "      <td>Ford</td>\n",
       "      <td>Expedition Limited</td>\n",
       "      <td>2022</td>\n",
       "      <td>28121</td>\n",
       "      <td>Gasoline</td>\n",
       "      <td>3.5L V6 24V PDI DOHC Twin Turbo</td>\n",
       "      <td>10-Speed Automatic</td>\n",
       "      <td>White</td>\n",
       "      <td>Ebony</td>\n",
       "      <td>None reported</td>\n",
       "      <td>NaN</td>\n",
       "    </tr>\n",
       "    <tr>\n",
       "      <th>3</th>\n",
       "      <td>188536</td>\n",
       "      <td>Audi</td>\n",
       "      <td>A6 2.0T Sport</td>\n",
       "      <td>2016</td>\n",
       "      <td>61258</td>\n",
       "      <td>Gasoline</td>\n",
       "      <td>2.0 Liter TFSI</td>\n",
       "      <td>Automatic</td>\n",
       "      <td>Silician Yellow</td>\n",
       "      <td>Black</td>\n",
       "      <td>None reported</td>\n",
       "      <td>NaN</td>\n",
       "    </tr>\n",
       "    <tr>\n",
       "      <th>4</th>\n",
       "      <td>188537</td>\n",
       "      <td>Audi</td>\n",
       "      <td>A6 2.0T Premium Plus</td>\n",
       "      <td>2018</td>\n",
       "      <td>59000</td>\n",
       "      <td>Gasoline</td>\n",
       "      <td>252.0HP 2.0L 4 Cylinder Engine Gasoline Fuel</td>\n",
       "      <td>A/T</td>\n",
       "      <td>Gray</td>\n",
       "      <td>Black</td>\n",
       "      <td>None reported</td>\n",
       "      <td>Yes</td>\n",
       "    </tr>\n",
       "  </tbody>\n",
       "</table>\n",
       "</div>"
      ]
     },
     "execution_count": 386,
     "metadata": {},
     "output_type": "execute_result"
    }
   ],
   "execution_count": 386
  },
  {
   "metadata": {
    "ExecuteTime": {
     "end_time": "2024-11-14T13:08:33.636472Z",
     "start_time": "2024-11-14T13:08:33.310832Z"
    }
   },
   "cell_type": "code",
   "source": [
    "# Filepath for train data\n",
    "file_path = \"data/train.csv\"\n",
    "train_data = pd.read_csv(file_path)\n",
    "#added for a quick way to see some of the data\n",
    "train_data.head(5)\n"
   ],
   "id": "416ba59adc5a27b9",
   "outputs": [
    {
     "data": {
      "text/plain": [
       "   id          brand              model  model_year  milage      fuel_type  \\\n",
       "0   0           MINI      Cooper S Base        2007  213000       Gasoline   \n",
       "1   1        Lincoln              LS V8        2002  143250       Gasoline   \n",
       "2   2      Chevrolet  Silverado 2500 LT        2002  136731  E85 Flex Fuel   \n",
       "3   3        Genesis   G90 5.0 Ultimate        2017   19500       Gasoline   \n",
       "4   4  Mercedes-Benz        Metris Base        2021    7388       Gasoline   \n",
       "\n",
       "                                              engine  \\\n",
       "0       172.0HP 1.6L 4 Cylinder Engine Gasoline Fuel   \n",
       "1       252.0HP 3.9L 8 Cylinder Engine Gasoline Fuel   \n",
       "2  320.0HP 5.3L 8 Cylinder Engine Flex Fuel Capab...   \n",
       "3       420.0HP 5.0L 8 Cylinder Engine Gasoline Fuel   \n",
       "4       208.0HP 2.0L 4 Cylinder Engine Gasoline Fuel   \n",
       "\n",
       "                     transmission ext_col int_col  \\\n",
       "0                             A/T  Yellow    Gray   \n",
       "1                             A/T  Silver   Beige   \n",
       "2                             A/T    Blue    Gray   \n",
       "3  Transmission w/Dual Shift Mode   Black   Black   \n",
       "4                     7-Speed A/T   Black   Beige   \n",
       "\n",
       "                                 accident clean_title  price  \n",
       "0                           None reported         Yes   4200  \n",
       "1  At least 1 accident or damage reported         Yes   4999  \n",
       "2                           None reported         Yes  13900  \n",
       "3                           None reported         Yes  45000  \n",
       "4                           None reported         Yes  97500  "
      ],
      "text/html": [
       "<div>\n",
       "<style scoped>\n",
       "    .dataframe tbody tr th:only-of-type {\n",
       "        vertical-align: middle;\n",
       "    }\n",
       "\n",
       "    .dataframe tbody tr th {\n",
       "        vertical-align: top;\n",
       "    }\n",
       "\n",
       "    .dataframe thead th {\n",
       "        text-align: right;\n",
       "    }\n",
       "</style>\n",
       "<table border=\"1\" class=\"dataframe\">\n",
       "  <thead>\n",
       "    <tr style=\"text-align: right;\">\n",
       "      <th></th>\n",
       "      <th>id</th>\n",
       "      <th>brand</th>\n",
       "      <th>model</th>\n",
       "      <th>model_year</th>\n",
       "      <th>milage</th>\n",
       "      <th>fuel_type</th>\n",
       "      <th>engine</th>\n",
       "      <th>transmission</th>\n",
       "      <th>ext_col</th>\n",
       "      <th>int_col</th>\n",
       "      <th>accident</th>\n",
       "      <th>clean_title</th>\n",
       "      <th>price</th>\n",
       "    </tr>\n",
       "  </thead>\n",
       "  <tbody>\n",
       "    <tr>\n",
       "      <th>0</th>\n",
       "      <td>0</td>\n",
       "      <td>MINI</td>\n",
       "      <td>Cooper S Base</td>\n",
       "      <td>2007</td>\n",
       "      <td>213000</td>\n",
       "      <td>Gasoline</td>\n",
       "      <td>172.0HP 1.6L 4 Cylinder Engine Gasoline Fuel</td>\n",
       "      <td>A/T</td>\n",
       "      <td>Yellow</td>\n",
       "      <td>Gray</td>\n",
       "      <td>None reported</td>\n",
       "      <td>Yes</td>\n",
       "      <td>4200</td>\n",
       "    </tr>\n",
       "    <tr>\n",
       "      <th>1</th>\n",
       "      <td>1</td>\n",
       "      <td>Lincoln</td>\n",
       "      <td>LS V8</td>\n",
       "      <td>2002</td>\n",
       "      <td>143250</td>\n",
       "      <td>Gasoline</td>\n",
       "      <td>252.0HP 3.9L 8 Cylinder Engine Gasoline Fuel</td>\n",
       "      <td>A/T</td>\n",
       "      <td>Silver</td>\n",
       "      <td>Beige</td>\n",
       "      <td>At least 1 accident or damage reported</td>\n",
       "      <td>Yes</td>\n",
       "      <td>4999</td>\n",
       "    </tr>\n",
       "    <tr>\n",
       "      <th>2</th>\n",
       "      <td>2</td>\n",
       "      <td>Chevrolet</td>\n",
       "      <td>Silverado 2500 LT</td>\n",
       "      <td>2002</td>\n",
       "      <td>136731</td>\n",
       "      <td>E85 Flex Fuel</td>\n",
       "      <td>320.0HP 5.3L 8 Cylinder Engine Flex Fuel Capab...</td>\n",
       "      <td>A/T</td>\n",
       "      <td>Blue</td>\n",
       "      <td>Gray</td>\n",
       "      <td>None reported</td>\n",
       "      <td>Yes</td>\n",
       "      <td>13900</td>\n",
       "    </tr>\n",
       "    <tr>\n",
       "      <th>3</th>\n",
       "      <td>3</td>\n",
       "      <td>Genesis</td>\n",
       "      <td>G90 5.0 Ultimate</td>\n",
       "      <td>2017</td>\n",
       "      <td>19500</td>\n",
       "      <td>Gasoline</td>\n",
       "      <td>420.0HP 5.0L 8 Cylinder Engine Gasoline Fuel</td>\n",
       "      <td>Transmission w/Dual Shift Mode</td>\n",
       "      <td>Black</td>\n",
       "      <td>Black</td>\n",
       "      <td>None reported</td>\n",
       "      <td>Yes</td>\n",
       "      <td>45000</td>\n",
       "    </tr>\n",
       "    <tr>\n",
       "      <th>4</th>\n",
       "      <td>4</td>\n",
       "      <td>Mercedes-Benz</td>\n",
       "      <td>Metris Base</td>\n",
       "      <td>2021</td>\n",
       "      <td>7388</td>\n",
       "      <td>Gasoline</td>\n",
       "      <td>208.0HP 2.0L 4 Cylinder Engine Gasoline Fuel</td>\n",
       "      <td>7-Speed A/T</td>\n",
       "      <td>Black</td>\n",
       "      <td>Beige</td>\n",
       "      <td>None reported</td>\n",
       "      <td>Yes</td>\n",
       "      <td>97500</td>\n",
       "    </tr>\n",
       "  </tbody>\n",
       "</table>\n",
       "</div>"
      ]
     },
     "execution_count": 387,
     "metadata": {},
     "output_type": "execute_result"
    }
   ],
   "execution_count": 387
  },
  {
   "metadata": {
    "ExecuteTime": {
     "end_time": "2024-11-14T13:08:33.778983Z",
     "start_time": "2024-11-14T13:08:33.701019Z"
    }
   },
   "cell_type": "code",
   "source": [
    "# note to self may need to split the train data in to some thing like 70-30% for training and testing. Since the test data does not contain prices\n",
    "# Split the data in to training and testing data\n",
    "tmp1 = train_data.drop(columns=[\"price\"])\n",
    "tmp2 = train_data[\"price\"]\n",
    "X_train, X_test, Y_train, Y_test = train_test_split(tmp1, tmp2, test_size=0.2, random_state=42) # split the data in to 80% training and 20% testing\n",
    "# X_train, X_test, Y_train, Y_test = train_test_split(train_data_file_path, test_size=0.3, random_state=42) # split the data in to 70% training and 30% testing\n",
    "print(\"train data (rows, columns):\", X_train.shape)"
   ],
   "id": "4cffe7c88fc58f27",
   "outputs": [
    {
     "name": "stdout",
     "output_type": "stream",
     "text": [
      "train data (rows, columns): (150826, 12)\n"
     ]
    }
   ],
   "execution_count": 388
  },
  {
   "metadata": {
    "ExecuteTime": {
     "end_time": "2024-11-14T13:08:33.858232Z",
     "start_time": "2024-11-14T13:08:33.836093Z"
    }
   },
   "cell_type": "code",
   "source": [
    "# Variables from the data\n",
    "# aka the different columns in the data. So i can use them in the model, the preprocessing, in the evaluation and so i can see what is the most important for the price of the cars\n",
    "# The variables are the columns in the data\n",
    "\n",
    "#target variable. Aka the price of the car\n",
    "target = \"price\" # the price of the car. What we are trying to predict\n",
    "id_col = \"id\" # the id of the car\n",
    "brand_col = \"brand\" # the brand of the car\n",
    "model_year_col = \"model_year\" # the year the car was made\n",
    "mileage_col = \"mileage\" # the mileage of the car\n",
    "engine_col = \"engine\" # the engine of the car. Could be useful for the price and to split the data in two categories in the future\n",
    "transmission_col = \"transmission\" # transmission of the car. The main diffrence is automatic and manual. That could be useful for the price and to split the data in to two main categories in the future. Cat wolud be manual or automatic\n",
    "ext_color_col = 'ext_col' # Color of the car outside.\n",
    "int_color_col = \"int_col\" # Interior color of the car. <-- note is more important in some climates than others (aka in hot climates with lots of sun the dark interior colors can get very hot)\n",
    "accident_col = \"accident\" # If the car has been in an accident. <--- Note to self this could be a good variable to use in the model. Since cars that have been in accidents are usually cheaper and are more risky to buy\n",
    "clean_title_col = \"clean_title\" # If the title of the car is clean. <--- Note to self this could be a good variable to use in the model. Since cars that have clean titles are usually more expensive and are less risky to buy\n",
    "model_col = \"model\" # the model of the car. Could be useful for the price and to split the data in to two categories in the future\n",
    "fuel_col = \"fuel_type\" # the fuel type of the car. Could be useful for the price and to split the data in to two categories in the future\n",
    "\n",
    "\n",
    "print(\"drop, price, colors (for now interior and exterior) and clean title column\") #check clean title column if it is useful later as well as the colors\n",
    "print(train_data_file_path.shape)\n",
    "# x and y\n",
    "X = train_data_file_path.drop(columns=[target, ext_color_col, int_color_col, clean_title_col])\n",
    "y = train_data_file_path[target]\n",
    "\n",
    "print(\"test data (rows, columns):\", X.shape)"
   ],
   "id": "5f351645cc35050f",
   "outputs": [
    {
     "name": "stdout",
     "output_type": "stream",
     "text": [
      "drop, price, colors (for now interior and exterior) and clean title column\n",
      "(188533, 13)\n",
      "test data (rows, columns): (188533, 9)\n"
     ]
    }
   ],
   "execution_count": 389
  },
  {
   "metadata": {
    "ExecuteTime": {
     "end_time": "2024-11-14T13:08:33.945980Z",
     "start_time": "2024-11-14T13:08:33.939177Z"
    }
   },
   "cell_type": "code",
   "source": [
    "# Methods for the model\n",
    "# The methods are the different functions that can be used in the model\n",
    "# So the methods I need to make is to identify the diffrent information in the columns and to preprocess the data.\n",
    "\n",
    "# Method to extract the year from the model year column\n",
    "def extract_year(df):\n",
    "    df[model_year_col] = df[model_year_col].str.extract(r'(\\d{4})').astype(int)\n",
    "    return df\n",
    "\n",
    "# Method to extract the engine from the engine column\n",
    "def extract_engine(df):\n",
    "    df[engine_col] = df[engine_col].str.extract(r'(\\d+)').astype(float)\n",
    "    return df\n",
    "# Method to exstract horsepower from the engine column\n",
    "# def extract_hp(df):\n",
    "#     if pd.isnull(df):\n",
    "#         return np.nan\n",
    "#     # horsepower\n",
    "#     hp = re.search(r'(\\d+)(?=hp)', df) # search for the horsepower. May need to change the regex\n",
    "#     hp = float(hp.group(0)) \\\n",
    "#         if hp \\\n",
    "#         else np.nan\n",
    "#     return hp\n",
    "\n",
    "def extract_hp(df):\n",
    "    if pd.isnull(df):\n",
    "        return np.nan\n",
    "\n",
    "    # Ensure the input is a string\n",
    "    df = str(df)\n",
    "\n",
    "    # Improving the regex to capture different formats and case variations for 'hp' and 'HP'\n",
    "    hp = re.search(r'(\\d+)\\s*[hH][pP]', df)\n",
    "\n",
    "    # Extract and return the horsepower as a float\n",
    "    hp = float(hp.group(1)) if hp else np.nan\n",
    "\n",
    "    return hp\n",
    "\n",
    "# Method to get out accident information for the accident column\n",
    "def extract_accident(df): #, accident_col\n",
    "    # if accident_col not in df.columns:\n",
    "    #     raise ValueError(f\"Column '{accident_col}' not found in DataFrame\")\n",
    "    #\n",
    "    # df[accident_col] = df[accident_col].str.lower().str.contains(\"yes\").astype(int) # if the car has been in an accident\n",
    "    # return df # return the data frame\n",
    "    if pd.isnull(df):\n",
    "        return 0\n",
    "    return 0 if df.strip().lower() == \"none reported\" else 1\n",
    "\n",
    "# Method to get out the transmission information for the transmission column\n",
    "def extract_transmission(df):\n",
    "    # if the car has automatic transmission or manual transmission or non reported\n",
    "    if df[transmission_col].str.contains(\"automatic\").any():\n",
    "        df[transmission_col] = 1\n",
    "    else:\n",
    "        df[transmission_col] = 0\n",
    "    return df\n"
   ],
   "id": "55a1e9657bdb429e",
   "outputs": [],
   "execution_count": 390
  },
  {
   "metadata": {
    "ExecuteTime": {
     "end_time": "2024-11-14T13:08:34.431480Z",
     "start_time": "2024-11-14T13:08:33.985530Z"
    }
   },
   "cell_type": "code",
   "source": [
    "# Apply the methods to the data\n",
    "\n",
    "# Apply horsepower method\n",
    "X[engine_col] = X[engine_col].apply(extract_hp)\n",
    "X[engine_col] = X[engine_col].fillna(X[engine_col].mean())\n",
    "print(\"test size after engine method:\", X.shape)\n",
    "\n",
    "# Apply the extract_accident method\n",
    "X[accident_col] = X[accident_col].apply(extract_accident)\n",
    "# X = extract_accident(X, accident_col)\n",
    "print(\"test size after accident method:\", X.shape)\n",
    "# print(X)"
   ],
   "id": "44332b9497392937",
   "outputs": [
    {
     "name": "stdout",
     "output_type": "stream",
     "text": [
      "test size after engine method: (188533, 9)\n",
      "test size after accident method: (188533, 9)\n"
     ]
    }
   ],
   "execution_count": 391
  },
  {
   "metadata": {
    "ExecuteTime": {
     "end_time": "2024-11-14T13:08:34.830405Z",
     "start_time": "2024-11-14T13:08:34.466927Z"
    }
   },
   "cell_type": "code",
   "source": [
    "# Thresholds\n",
    "# Threshold for brand category\n",
    "brand_threshold = 100\n",
    "# Count the number of cars for each brand\n",
    "brand_cou = X[brand_col].value_counts()\n",
    "\n",
    "# Brand\n",
    "brand_cat = brand_cou[brand_cou > brand_threshold].index\n",
    "# Brand category. Group the less frequent brands into \"Other\"\n",
    "X[brand_col] = X[brand_col].apply(lambda x: x if x in brand_cat else \"Other\")\n",
    "X =  pd.get_dummies(X, columns=[brand_col])\n",
    "\n",
    "# Threshold for color category. Exterior color and interior color\n",
    "color_threshold_ext = 100\n",
    "color_threshold_int = 100\n",
    "\n",
    "# # Exterior color\n",
    "# ext_color_cat = X[ext_color_col].value_counts()\n",
    "# # Interior color\n",
    "# int_color_cat = X[int_color_col].value_counts()\n",
    "#\n",
    "# # Identify if the color is the same\n",
    "# ext_color_common = ext_color_cat[ext_color_cat > color_threshold_ext].index\n",
    "# int_color_common = int_color_cat[int_color_cat > color_threshold_int].index\n",
    "#\n",
    "# # Exterior color category. Group the less frequent colors into \"Other\"\n",
    "# X[ext_color_col] = X[ext_color_col].where(X[ext_color_col].isin(ext_color_common), \"Other\")\n",
    "# # X[ext_color_col] = X[ext_color_col].apply(lambda x: x if x in ext_color_cat else \"Other\")\n",
    "# X =  pd.get_dummies(X, columns=[ext_color_col])\n",
    "# # Interior color category. Group the less frequent colors into \"Other\"\n",
    "# X[int_color_col] = X[int_color_col].where(X[int_color_col].isin(int_color_common), \"Other\")\n",
    "# # X[int_color_col] = X[int_color_col].apply(lambda x: x if x in int_color_cat else \"Other\")\n",
    "# X =  pd.get_dummies(X, columns=[int_color_col])\n",
    "#\n",
    "# print(\"common exterior colors:\", ext_color_common)\n",
    "# print(\"common interior colors:\", int_color_common)\n",
    "# print(len(ext_color_common))\n",
    "# print(len(int_color_common))\n",
    "\n",
    "# Threshold for transmission category. Automatic and manual. Vet ikke helt hvike type kategorier er det som blir her\n",
    "transmission_threshold = 100\n",
    "\n",
    "# Transmission\n",
    "transmission_cat = X[transmission_col].value_counts()\n",
    "\n",
    "# Identify if the transmission is the same\n",
    "transmission_common = transmission_cat[transmission_cat > transmission_threshold].index\n",
    "\n",
    "# Transmission category. Group the less frequent transmissions into \"Other\"\n",
    "X[transmission_col] = X[transmission_col].where(X[transmission_col].isin(transmission_common), \"Other\")\n",
    "\n",
    "X =  pd.get_dummies(X, columns=[transmission_col])\n",
    "\n",
    "# Threshold for fuel type category\n",
    "fuel_threshold = 100\n",
    "# Count the number of cars for each fuel type\n",
    "fuel_couts = X[fuel_col].value_counts()\n",
    "fuel_common = fuel_couts[fuel_couts > fuel_threshold].index\n",
    "print(\"common fuel types:\", fuel_common)\n",
    "X[fuel_col] = X[fuel_col].where(X[fuel_col].isin(fuel_common), \"Other\")\n",
    "X =  pd.get_dummies(X, columns=[fuel_col])\n",
    "\n",
    "# Threshold model\n",
    "model_threshold = 100\n",
    "# Count the number of cars for each model\n",
    "model_cat = X[model_col].value_counts()\n",
    "model_common = model_cat[model_cat > model_threshold].index\n",
    "X[model_col] = X[model_col].where(X[model_col].isin(model_common), \"Other\")\n",
    "X =  pd.get_dummies(X, columns=[model_col])\n",
    "\n",
    "print(\"common models:\", model_common)\n",
    "print(\"test size after thresholding:\", X.shape)\n",
    "\n",
    "\n"
   ],
   "id": "dc612831215a5c2c",
   "outputs": [
    {
     "name": "stdout",
     "output_type": "stream",
     "text": [
      "common fuel types: Index(['Gasoline', 'Hybrid', 'E85 Flex Fuel', 'Diesel', '–', 'Plug-In Hybrid'], dtype='object', name='fuel_type')\n",
      "common models: Index(['F-150 XLT', 'M3 Base', 'Camaro 2SS', 'M4 Base', 'Mustang GT Premium',\n",
      "       'F-150 Lariat', 'E-Class E 350 4MATIC', '1500 Laramie', '911 Carrera S',\n",
      "       'Corvette Base',\n",
      "       ...\n",
      "       'Sorento SXL', 'Suburban RST', 'X5 PHEV xDrive45e', 'Nautilus Reserve',\n",
      "       'G70 2.0T', 'Santa Fe SEL', '2500 SLT', 'Bronco Sport Outer Banks',\n",
      "       'Stinger GT2', 'Bronco Outer Banks'],\n",
      "      dtype='object', name='model', length=475)\n",
      "test size after thresholding: (188533, 565)\n"
     ]
    }
   ],
   "execution_count": 392
  },
  {
   "metadata": {
    "ExecuteTime": {
     "end_time": "2024-11-14T13:08:34.871496Z",
     "start_time": "2024-11-14T13:08:34.867993Z"
    }
   },
   "cell_type": "code",
   "source": [
    "# Fit and transform the training data.\n",
    "\n"
   ],
   "id": "2839a549162f8dbf",
   "outputs": [],
   "execution_count": 393
  },
  {
   "metadata": {
    "ExecuteTime": {
     "end_time": "2024-11-14T13:08:34.912452Z",
     "start_time": "2024-11-14T13:08:34.907773Z"
    }
   },
   "cell_type": "code",
   "source": [
    "from sklearn.preprocessing import StandardScaler\n",
    "from xgboost import XGBClassifier\n",
    "\n",
    "# Model\n",
    "gradient_boosting = GradientBoostingClassifier()\n",
    "# linear_reg = LinearRegression()\n",
    "random_forest_reg = RandomForestRegressor()\n",
    "\n",
    "# Preprocessor\n",
    "preprocessor = ColumnTransformer( transformers=[('numerical', StandardScaler(),X.columns)])\n",
    "\n",
    "xgb = XGBClassifier( # Heads up only works in PyCharmPro ide not the notebook web version\n",
    "    scale_pos_weight=len(Y_train[Y_train == 0]),\n",
    "    n_estimators=10000,\n",
    "    random_state=42,\n",
    "    subsample=0.9,\n",
    "    min_child_weight=10,\n",
    "    max_depth=6,\n",
    "    learning_rate=0.01,\n",
    "    gamma=0.5,\n",
    "    colsample_bytree=0.9,\n",
    ")\n",
    "\n",
    "model = Pipeline([('preprocessor', preprocessor), ('classifier', xgb)])\n"
   ],
   "id": "8d6f8665b855079a",
   "outputs": [],
   "execution_count": 394
  },
  {
   "metadata": {
    "ExecuteTime": {
     "end_time": "2024-11-14T13:08:34.992475Z",
     "start_time": "2024-11-14T13:08:34.950472Z"
    }
   },
   "cell_type": "code",
   "source": [
    "\n",
    "# Train with fit\n",
    "# gradient_boosting.fit(X_train, Y_train)\n",
    "# linear_reg.fit(X_train, Y_train)\n",
    "random_forest_reg.fit(X_train, Y_train)\n",
    "\n",
    "model.fit(X_train, Y_train)\n"
   ],
   "id": "7b0bfde6c9ea2630",
   "outputs": [
    {
     "ename": "ValueError",
     "evalue": "could not convert string to float: 'Mercedes-Benz'",
     "output_type": "error",
     "traceback": [
      "\u001B[1;31m---------------------------------------------------------------------------\u001B[0m",
      "\u001B[1;31mValueError\u001B[0m                                Traceback (most recent call last)",
      "\u001B[1;32m~\\AppData\\Local\\Temp\\ipykernel_3624\\3957766296.py\u001B[0m in \u001B[0;36m?\u001B[1;34m()\u001B[0m\n\u001B[0;32m      1\u001B[0m \u001B[1;31m# Train with fit\u001B[0m\u001B[1;33m\u001B[0m\u001B[1;33m\u001B[0m\u001B[0m\n\u001B[0;32m      2\u001B[0m \u001B[1;31m# gradient_boosting.fit(X_train, Y_train)\u001B[0m\u001B[1;33m\u001B[0m\u001B[1;33m\u001B[0m\u001B[0m\n\u001B[0;32m      3\u001B[0m \u001B[1;31m# linear_reg.fit(X_train, Y_train)\u001B[0m\u001B[1;33m\u001B[0m\u001B[1;33m\u001B[0m\u001B[0m\n\u001B[1;32m----> 4\u001B[1;33m \u001B[0mrandom_forest_reg\u001B[0m\u001B[1;33m.\u001B[0m\u001B[0mfit\u001B[0m\u001B[1;33m(\u001B[0m\u001B[0mX_train\u001B[0m\u001B[1;33m,\u001B[0m \u001B[0mY_train\u001B[0m\u001B[1;33m)\u001B[0m\u001B[1;33m\u001B[0m\u001B[1;33m\u001B[0m\u001B[0m\n\u001B[0m\u001B[0;32m      5\u001B[0m \u001B[1;33m\u001B[0m\u001B[0m\n\u001B[0;32m      6\u001B[0m \u001B[0mmodel\u001B[0m\u001B[1;33m.\u001B[0m\u001B[0mfit\u001B[0m\u001B[1;33m(\u001B[0m\u001B[0mX_train\u001B[0m\u001B[1;33m,\u001B[0m \u001B[0mY_train\u001B[0m\u001B[1;33m)\u001B[0m\u001B[1;33m\u001B[0m\u001B[1;33m\u001B[0m\u001B[0m\n\u001B[0;32m      7\u001B[0m \u001B[1;33m\u001B[0m\u001B[0m\n",
      "\u001B[1;32m~\\anaconda3\\Lib\\site-packages\\sklearn\\base.py\u001B[0m in \u001B[0;36m?\u001B[1;34m(estimator, *args, **kwargs)\u001B[0m\n\u001B[0;32m   1470\u001B[0m                 skip_parameter_validation=(\n\u001B[0;32m   1471\u001B[0m                     \u001B[0mprefer_skip_nested_validation\u001B[0m \u001B[1;32mor\u001B[0m \u001B[0mglobal_skip_validation\u001B[0m\u001B[1;33m\u001B[0m\u001B[1;33m\u001B[0m\u001B[0m\n\u001B[0;32m   1472\u001B[0m                 \u001B[1;33m)\u001B[0m\u001B[1;33m\u001B[0m\u001B[1;33m\u001B[0m\u001B[0m\n\u001B[0;32m   1473\u001B[0m             \u001B[1;33m)\u001B[0m\u001B[1;33m:\u001B[0m\u001B[1;33m\u001B[0m\u001B[1;33m\u001B[0m\u001B[0m\n\u001B[1;32m-> 1474\u001B[1;33m                 \u001B[1;32mreturn\u001B[0m \u001B[0mfit_method\u001B[0m\u001B[1;33m(\u001B[0m\u001B[0mestimator\u001B[0m\u001B[1;33m,\u001B[0m \u001B[1;33m*\u001B[0m\u001B[0margs\u001B[0m\u001B[1;33m,\u001B[0m \u001B[1;33m**\u001B[0m\u001B[0mkwargs\u001B[0m\u001B[1;33m)\u001B[0m\u001B[1;33m\u001B[0m\u001B[1;33m\u001B[0m\u001B[0m\n\u001B[0m",
      "\u001B[1;32m~\\anaconda3\\Lib\\site-packages\\sklearn\\ensemble\\_forest.py\u001B[0m in \u001B[0;36m?\u001B[1;34m(self, X, y, sample_weight)\u001B[0m\n\u001B[0;32m    359\u001B[0m         \u001B[1;31m# Validate or convert input data\u001B[0m\u001B[1;33m\u001B[0m\u001B[1;33m\u001B[0m\u001B[0m\n\u001B[0;32m    360\u001B[0m         \u001B[1;32mif\u001B[0m \u001B[0missparse\u001B[0m\u001B[1;33m(\u001B[0m\u001B[0my\u001B[0m\u001B[1;33m)\u001B[0m\u001B[1;33m:\u001B[0m\u001B[1;33m\u001B[0m\u001B[1;33m\u001B[0m\u001B[0m\n\u001B[0;32m    361\u001B[0m             \u001B[1;32mraise\u001B[0m \u001B[0mValueError\u001B[0m\u001B[1;33m(\u001B[0m\u001B[1;34m\"sparse multilabel-indicator for y is not supported.\"\u001B[0m\u001B[1;33m)\u001B[0m\u001B[1;33m\u001B[0m\u001B[1;33m\u001B[0m\u001B[0m\n\u001B[0;32m    362\u001B[0m \u001B[1;33m\u001B[0m\u001B[0m\n\u001B[1;32m--> 363\u001B[1;33m         X, y = self._validate_data(\n\u001B[0m\u001B[0;32m    364\u001B[0m             \u001B[0mX\u001B[0m\u001B[1;33m,\u001B[0m\u001B[1;33m\u001B[0m\u001B[1;33m\u001B[0m\u001B[0m\n\u001B[0;32m    365\u001B[0m             \u001B[0my\u001B[0m\u001B[1;33m,\u001B[0m\u001B[1;33m\u001B[0m\u001B[1;33m\u001B[0m\u001B[0m\n\u001B[0;32m    366\u001B[0m             \u001B[0mmulti_output\u001B[0m\u001B[1;33m=\u001B[0m\u001B[1;32mTrue\u001B[0m\u001B[1;33m,\u001B[0m\u001B[1;33m\u001B[0m\u001B[1;33m\u001B[0m\u001B[0m\n",
      "\u001B[1;32m~\\anaconda3\\Lib\\site-packages\\sklearn\\base.py\u001B[0m in \u001B[0;36m?\u001B[1;34m(self, X, y, reset, validate_separately, cast_to_ndarray, **check_params)\u001B[0m\n\u001B[0;32m    646\u001B[0m                 \u001B[1;32mif\u001B[0m \u001B[1;34m\"estimator\"\u001B[0m \u001B[1;32mnot\u001B[0m \u001B[1;32min\u001B[0m \u001B[0mcheck_y_params\u001B[0m\u001B[1;33m:\u001B[0m\u001B[1;33m\u001B[0m\u001B[1;33m\u001B[0m\u001B[0m\n\u001B[0;32m    647\u001B[0m                     \u001B[0mcheck_y_params\u001B[0m \u001B[1;33m=\u001B[0m \u001B[1;33m{\u001B[0m\u001B[1;33m**\u001B[0m\u001B[0mdefault_check_params\u001B[0m\u001B[1;33m,\u001B[0m \u001B[1;33m**\u001B[0m\u001B[0mcheck_y_params\u001B[0m\u001B[1;33m}\u001B[0m\u001B[1;33m\u001B[0m\u001B[1;33m\u001B[0m\u001B[0m\n\u001B[0;32m    648\u001B[0m                 \u001B[0my\u001B[0m \u001B[1;33m=\u001B[0m \u001B[0mcheck_array\u001B[0m\u001B[1;33m(\u001B[0m\u001B[0my\u001B[0m\u001B[1;33m,\u001B[0m \u001B[0minput_name\u001B[0m\u001B[1;33m=\u001B[0m\u001B[1;34m\"y\"\u001B[0m\u001B[1;33m,\u001B[0m \u001B[1;33m**\u001B[0m\u001B[0mcheck_y_params\u001B[0m\u001B[1;33m)\u001B[0m\u001B[1;33m\u001B[0m\u001B[1;33m\u001B[0m\u001B[0m\n\u001B[0;32m    649\u001B[0m             \u001B[1;32melse\u001B[0m\u001B[1;33m:\u001B[0m\u001B[1;33m\u001B[0m\u001B[1;33m\u001B[0m\u001B[0m\n\u001B[1;32m--> 650\u001B[1;33m                 \u001B[0mX\u001B[0m\u001B[1;33m,\u001B[0m \u001B[0my\u001B[0m \u001B[1;33m=\u001B[0m \u001B[0mcheck_X_y\u001B[0m\u001B[1;33m(\u001B[0m\u001B[0mX\u001B[0m\u001B[1;33m,\u001B[0m \u001B[0my\u001B[0m\u001B[1;33m,\u001B[0m \u001B[1;33m**\u001B[0m\u001B[0mcheck_params\u001B[0m\u001B[1;33m)\u001B[0m\u001B[1;33m\u001B[0m\u001B[1;33m\u001B[0m\u001B[0m\n\u001B[0m\u001B[0;32m    651\u001B[0m             \u001B[0mout\u001B[0m \u001B[1;33m=\u001B[0m \u001B[0mX\u001B[0m\u001B[1;33m,\u001B[0m \u001B[0my\u001B[0m\u001B[1;33m\u001B[0m\u001B[1;33m\u001B[0m\u001B[0m\n\u001B[0;32m    652\u001B[0m \u001B[1;33m\u001B[0m\u001B[0m\n\u001B[0;32m    653\u001B[0m         \u001B[1;32mif\u001B[0m \u001B[1;32mnot\u001B[0m \u001B[0mno_val_X\u001B[0m \u001B[1;32mand\u001B[0m \u001B[0mcheck_params\u001B[0m\u001B[1;33m.\u001B[0m\u001B[0mget\u001B[0m\u001B[1;33m(\u001B[0m\u001B[1;34m\"ensure_2d\"\u001B[0m\u001B[1;33m,\u001B[0m \u001B[1;32mTrue\u001B[0m\u001B[1;33m)\u001B[0m\u001B[1;33m:\u001B[0m\u001B[1;33m\u001B[0m\u001B[1;33m\u001B[0m\u001B[0m\n",
      "\u001B[1;32m~\\anaconda3\\Lib\\site-packages\\sklearn\\utils\\validation.py\u001B[0m in \u001B[0;36m?\u001B[1;34m(X, y, accept_sparse, accept_large_sparse, dtype, order, copy, force_all_finite, ensure_2d, allow_nd, multi_output, ensure_min_samples, ensure_min_features, y_numeric, estimator)\u001B[0m\n\u001B[0;32m   1259\u001B[0m         raise ValueError(\n\u001B[0;32m   1260\u001B[0m             \u001B[1;33mf\"\u001B[0m\u001B[1;33m{\u001B[0m\u001B[0mestimator_name\u001B[0m\u001B[1;33m}\u001B[0m\u001B[1;33m requires y to be passed, but the target y is None\u001B[0m\u001B[1;33m\"\u001B[0m\u001B[1;33m\u001B[0m\u001B[1;33m\u001B[0m\u001B[0m\n\u001B[0;32m   1261\u001B[0m         \u001B[1;33m)\u001B[0m\u001B[1;33m\u001B[0m\u001B[1;33m\u001B[0m\u001B[0m\n\u001B[0;32m   1262\u001B[0m \u001B[1;33m\u001B[0m\u001B[0m\n\u001B[1;32m-> 1263\u001B[1;33m     X = check_array(\n\u001B[0m\u001B[0;32m   1264\u001B[0m         \u001B[0mX\u001B[0m\u001B[1;33m,\u001B[0m\u001B[1;33m\u001B[0m\u001B[1;33m\u001B[0m\u001B[0m\n\u001B[0;32m   1265\u001B[0m         \u001B[0maccept_sparse\u001B[0m\u001B[1;33m=\u001B[0m\u001B[0maccept_sparse\u001B[0m\u001B[1;33m,\u001B[0m\u001B[1;33m\u001B[0m\u001B[1;33m\u001B[0m\u001B[0m\n\u001B[0;32m   1266\u001B[0m         \u001B[0maccept_large_sparse\u001B[0m\u001B[1;33m=\u001B[0m\u001B[0maccept_large_sparse\u001B[0m\u001B[1;33m,\u001B[0m\u001B[1;33m\u001B[0m\u001B[1;33m\u001B[0m\u001B[0m\n",
      "\u001B[1;32m~\\anaconda3\\Lib\\site-packages\\sklearn\\utils\\validation.py\u001B[0m in \u001B[0;36m?\u001B[1;34m(array, accept_sparse, accept_large_sparse, dtype, order, copy, force_all_finite, ensure_2d, allow_nd, ensure_min_samples, ensure_min_features, estimator, input_name)\u001B[0m\n\u001B[0;32m    994\u001B[0m                         \u001B[1;33m)\u001B[0m\u001B[1;33m\u001B[0m\u001B[1;33m\u001B[0m\u001B[0m\n\u001B[0;32m    995\u001B[0m                     \u001B[0marray\u001B[0m \u001B[1;33m=\u001B[0m \u001B[0mxp\u001B[0m\u001B[1;33m.\u001B[0m\u001B[0mastype\u001B[0m\u001B[1;33m(\u001B[0m\u001B[0marray\u001B[0m\u001B[1;33m,\u001B[0m \u001B[0mdtype\u001B[0m\u001B[1;33m,\u001B[0m \u001B[0mcopy\u001B[0m\u001B[1;33m=\u001B[0m\u001B[1;32mFalse\u001B[0m\u001B[1;33m)\u001B[0m\u001B[1;33m\u001B[0m\u001B[1;33m\u001B[0m\u001B[0m\n\u001B[0;32m    996\u001B[0m                 \u001B[1;32melse\u001B[0m\u001B[1;33m:\u001B[0m\u001B[1;33m\u001B[0m\u001B[1;33m\u001B[0m\u001B[0m\n\u001B[0;32m    997\u001B[0m                     \u001B[0marray\u001B[0m \u001B[1;33m=\u001B[0m \u001B[0m_asarray_with_order\u001B[0m\u001B[1;33m(\u001B[0m\u001B[0marray\u001B[0m\u001B[1;33m,\u001B[0m \u001B[0morder\u001B[0m\u001B[1;33m=\u001B[0m\u001B[0morder\u001B[0m\u001B[1;33m,\u001B[0m \u001B[0mdtype\u001B[0m\u001B[1;33m=\u001B[0m\u001B[0mdtype\u001B[0m\u001B[1;33m,\u001B[0m \u001B[0mxp\u001B[0m\u001B[1;33m=\u001B[0m\u001B[0mxp\u001B[0m\u001B[1;33m)\u001B[0m\u001B[1;33m\u001B[0m\u001B[1;33m\u001B[0m\u001B[0m\n\u001B[1;32m--> 998\u001B[1;33m             \u001B[1;32mexcept\u001B[0m \u001B[0mComplexWarning\u001B[0m \u001B[1;32mas\u001B[0m \u001B[0mcomplex_warning\u001B[0m\u001B[1;33m:\u001B[0m\u001B[1;33m\u001B[0m\u001B[1;33m\u001B[0m\u001B[0m\n\u001B[0m\u001B[0;32m    999\u001B[0m                 raise ValueError(\n\u001B[0;32m   1000\u001B[0m                     \u001B[1;34m\"Complex data not supported\\n{}\\n\"\u001B[0m\u001B[1;33m.\u001B[0m\u001B[0mformat\u001B[0m\u001B[1;33m(\u001B[0m\u001B[0marray\u001B[0m\u001B[1;33m)\u001B[0m\u001B[1;33m\u001B[0m\u001B[1;33m\u001B[0m\u001B[0m\n\u001B[0;32m   1001\u001B[0m                 \u001B[1;33m)\u001B[0m \u001B[1;32mfrom\u001B[0m \u001B[0mcomplex_warning\u001B[0m\u001B[1;33m\u001B[0m\u001B[1;33m\u001B[0m\u001B[0m\n",
      "\u001B[1;32m~\\anaconda3\\Lib\\site-packages\\sklearn\\utils\\_array_api.py\u001B[0m in \u001B[0;36m?\u001B[1;34m(array, dtype, order, copy, xp)\u001B[0m\n\u001B[0;32m    517\u001B[0m         \u001B[1;31m# Use NumPy API to support order\u001B[0m\u001B[1;33m\u001B[0m\u001B[1;33m\u001B[0m\u001B[0m\n\u001B[0;32m    518\u001B[0m         \u001B[1;32mif\u001B[0m \u001B[0mcopy\u001B[0m \u001B[1;32mis\u001B[0m \u001B[1;32mTrue\u001B[0m\u001B[1;33m:\u001B[0m\u001B[1;33m\u001B[0m\u001B[1;33m\u001B[0m\u001B[0m\n\u001B[0;32m    519\u001B[0m             \u001B[0marray\u001B[0m \u001B[1;33m=\u001B[0m \u001B[0mnumpy\u001B[0m\u001B[1;33m.\u001B[0m\u001B[0marray\u001B[0m\u001B[1;33m(\u001B[0m\u001B[0marray\u001B[0m\u001B[1;33m,\u001B[0m \u001B[0morder\u001B[0m\u001B[1;33m=\u001B[0m\u001B[0morder\u001B[0m\u001B[1;33m,\u001B[0m \u001B[0mdtype\u001B[0m\u001B[1;33m=\u001B[0m\u001B[0mdtype\u001B[0m\u001B[1;33m)\u001B[0m\u001B[1;33m\u001B[0m\u001B[1;33m\u001B[0m\u001B[0m\n\u001B[0;32m    520\u001B[0m         \u001B[1;32melse\u001B[0m\u001B[1;33m:\u001B[0m\u001B[1;33m\u001B[0m\u001B[1;33m\u001B[0m\u001B[0m\n\u001B[1;32m--> 521\u001B[1;33m             \u001B[0marray\u001B[0m \u001B[1;33m=\u001B[0m \u001B[0mnumpy\u001B[0m\u001B[1;33m.\u001B[0m\u001B[0masarray\u001B[0m\u001B[1;33m(\u001B[0m\u001B[0marray\u001B[0m\u001B[1;33m,\u001B[0m \u001B[0morder\u001B[0m\u001B[1;33m=\u001B[0m\u001B[0morder\u001B[0m\u001B[1;33m,\u001B[0m \u001B[0mdtype\u001B[0m\u001B[1;33m=\u001B[0m\u001B[0mdtype\u001B[0m\u001B[1;33m)\u001B[0m\u001B[1;33m\u001B[0m\u001B[1;33m\u001B[0m\u001B[0m\n\u001B[0m\u001B[0;32m    522\u001B[0m \u001B[1;33m\u001B[0m\u001B[0m\n\u001B[0;32m    523\u001B[0m         \u001B[1;31m# At this point array is a NumPy ndarray. We convert it to an array\u001B[0m\u001B[1;33m\u001B[0m\u001B[1;33m\u001B[0m\u001B[0m\n\u001B[0;32m    524\u001B[0m         \u001B[1;31m# container that is consistent with the input's namespace.\u001B[0m\u001B[1;33m\u001B[0m\u001B[1;33m\u001B[0m\u001B[0m\n",
      "\u001B[1;32m~\\anaconda3\\Lib\\site-packages\\pandas\\core\\generic.py\u001B[0m in \u001B[0;36m?\u001B[1;34m(self, dtype, copy)\u001B[0m\n\u001B[0;32m   2149\u001B[0m     def __array__(\n\u001B[0;32m   2150\u001B[0m         \u001B[0mself\u001B[0m\u001B[1;33m,\u001B[0m \u001B[0mdtype\u001B[0m\u001B[1;33m:\u001B[0m \u001B[0mnpt\u001B[0m\u001B[1;33m.\u001B[0m\u001B[0mDTypeLike\u001B[0m \u001B[1;33m|\u001B[0m \u001B[1;32mNone\u001B[0m \u001B[1;33m=\u001B[0m \u001B[1;32mNone\u001B[0m\u001B[1;33m,\u001B[0m \u001B[0mcopy\u001B[0m\u001B[1;33m:\u001B[0m \u001B[0mbool_t\u001B[0m \u001B[1;33m|\u001B[0m \u001B[1;32mNone\u001B[0m \u001B[1;33m=\u001B[0m \u001B[1;32mNone\u001B[0m\u001B[1;33m\u001B[0m\u001B[1;33m\u001B[0m\u001B[0m\n\u001B[0;32m   2151\u001B[0m     \u001B[1;33m)\u001B[0m \u001B[1;33m->\u001B[0m \u001B[0mnp\u001B[0m\u001B[1;33m.\u001B[0m\u001B[0mndarray\u001B[0m\u001B[1;33m:\u001B[0m\u001B[1;33m\u001B[0m\u001B[1;33m\u001B[0m\u001B[0m\n\u001B[0;32m   2152\u001B[0m         \u001B[0mvalues\u001B[0m \u001B[1;33m=\u001B[0m \u001B[0mself\u001B[0m\u001B[1;33m.\u001B[0m\u001B[0m_values\u001B[0m\u001B[1;33m\u001B[0m\u001B[1;33m\u001B[0m\u001B[0m\n\u001B[1;32m-> 2153\u001B[1;33m         \u001B[0marr\u001B[0m \u001B[1;33m=\u001B[0m \u001B[0mnp\u001B[0m\u001B[1;33m.\u001B[0m\u001B[0masarray\u001B[0m\u001B[1;33m(\u001B[0m\u001B[0mvalues\u001B[0m\u001B[1;33m,\u001B[0m \u001B[0mdtype\u001B[0m\u001B[1;33m=\u001B[0m\u001B[0mdtype\u001B[0m\u001B[1;33m)\u001B[0m\u001B[1;33m\u001B[0m\u001B[1;33m\u001B[0m\u001B[0m\n\u001B[0m\u001B[0;32m   2154\u001B[0m         if (\n\u001B[0;32m   2155\u001B[0m             \u001B[0mastype_is_view\u001B[0m\u001B[1;33m(\u001B[0m\u001B[0mvalues\u001B[0m\u001B[1;33m.\u001B[0m\u001B[0mdtype\u001B[0m\u001B[1;33m,\u001B[0m \u001B[0marr\u001B[0m\u001B[1;33m.\u001B[0m\u001B[0mdtype\u001B[0m\u001B[1;33m)\u001B[0m\u001B[1;33m\u001B[0m\u001B[1;33m\u001B[0m\u001B[0m\n\u001B[0;32m   2156\u001B[0m             \u001B[1;32mand\u001B[0m \u001B[0musing_copy_on_write\u001B[0m\u001B[1;33m(\u001B[0m\u001B[1;33m)\u001B[0m\u001B[1;33m\u001B[0m\u001B[1;33m\u001B[0m\u001B[0m\n",
      "\u001B[1;31mValueError\u001B[0m: could not convert string to float: 'Mercedes-Benz'"
     ]
    }
   ],
   "execution_count": 395
  },
  {
   "metadata": {},
   "cell_type": "code",
   "outputs": [],
   "execution_count": null,
   "source": [
    "# Predict\n",
    "gradient_boosting_pred = gradient_boosting.predict(X_test)\n",
    "# linear_reg_pred = linear_reg.predict(X_test)\n",
    "random_forest_reg_pred = random_forest_reg.predict(X_test)\n",
    "\n",
    "model_pred = model.predict(X_test)\n",
    "data_test_pred = model.predict(test_data)\n"
   ],
   "id": "944dd1e4a1e9e4fa"
  },
  {
   "metadata": {},
   "cell_type": "code",
   "outputs": [],
   "execution_count": null,
   "source": [
    "# Evaluate\n",
    "# Evaluate the model\n",
    "\n",
    "# mean = mean_squared_error(Y_test, linear_reg_pred)\n",
    "\n",
    "mean = mean_squared_error(Y_test, random_forest_reg_pred)\n",
    "root_m = root_mean_squared_error(mean)\n",
    "\n",
    "print(f\"accuracy: {accuracy_score(Y_test, gradient_boosting_pred)}\")\n",
    "print(\"Mean Squared Error:\", mean)\n",
    "print(\"Root Mean Squared Error:\", root_m)\n"
   ],
   "id": "7603979233a69022"
  }
 ],
 "metadata": {
  "kernelspec": {
   "display_name": "Python 3",
   "language": "python",
   "name": "python3"
  },
  "language_info": {
   "codemirror_mode": {
    "name": "ipython",
    "version": 2
   },
   "file_extension": ".py",
   "mimetype": "text/x-python",
   "name": "python",
   "nbconvert_exporter": "python",
   "pygments_lexer": "ipython2",
   "version": "2.7.6"
  }
 },
 "nbformat": 4,
 "nbformat_minor": 5
}
